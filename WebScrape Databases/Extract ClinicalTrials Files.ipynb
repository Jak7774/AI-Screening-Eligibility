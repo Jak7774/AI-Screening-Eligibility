{
 "cells": [
  {
   "cell_type": "code",
   "execution_count": 2,
   "metadata": {},
   "outputs": [],
   "source": [
    "import os\n",
    "import time\n",
    "import csv\n",
    "import math\n",
    "import re\n",
    "from selenium import webdriver\n",
    "from selenium.webdriver.common.by import By\n",
    "from selenium.webdriver.chrome.service import Service\n",
    "from webdriver_manager.chrome import ChromeDriverManager\n",
    "from selenium.webdriver.support.ui import WebDriverWait\n",
    "from selenium.webdriver.support import expected_conditions as EC "
   ]
  },
  {
   "cell_type": "code",
   "execution_count": null,
   "metadata": {},
   "outputs": [],
   "source": [
    "# Function to extract data from each project page\n",
    "def extract_data(url):\n",
    "    driver.get(url)\n",
    "    time.sleep(2)  # Give the page some time to load\n",
    "    \n",
    "    # List of tuples containing the data keys and their corresponding XPaths\n",
    "    elements = [\n",
    "        ('Study Title'              , '/html/body/app-root/main/ctg-study-details/div[2]/ctg-study-info/div/div/div[2]/div[1]/ctg-study-overview/div/div/div[1]/div[3]/ctg-long-text/div/div'),\n",
    "        ('ClinicalTrialsID'         , '/html/body/app-root/main/ctg-study-details/section/ctg-study-details-top-info/div[3]/div[1]/span[2]'),\n",
    "        ('Start Date'               , '/html/body/app-root/main/ctg-study-details/div[2]/ctg-study-info/div/div/div[2]/div[1]/ctg-study-overview/div/div/div[2]/div/div[1]/div[1]/span'),\n",
    "        ('End Date'                 , '/html/body/app-root/main/ctg-study-details/div[2]/ctg-study-info/div/div/div[2]/div[1]/ctg-study-overview/div/div/div[2]/div/div[1]/div[3]/span'),\n",
    "        ('Sample Size'              , '/html/body/app-root/main/ctg-study-details/div[2]/ctg-study-info/div/div/div[2]/div[1]/ctg-study-overview/div/div/div[2]/div/div[2]/div[2]/span'),\n",
    "        ('Brief Summary'            , '/html/body/app-root/main/ctg-study-details/div[2]/ctg-study-info/div/div/div[2]/div[1]/ctg-study-overview/div/div/div[1]/ctg-long-text[1]/div/div'),\n",
    "        ('Condition'                , '/html/body/app-root/main/ctg-study-details/div[2]/ctg-study-info/div/div/div[2]/div[1]/ctg-study-overview/div/div/div[1]/ctg-conditions/div/div/span[1]'),\n",
    "        ('Intervention'             , '/html/body/app-root/main/ctg-study-details/div[2]/ctg-study-info/div/div/div[2]/div[1]/ctg-study-overview/div/div/div[1]/div[5]/div[2]/ul'),\n",
    "        ('Contact Name'             , '/html/body/app-root/main/ctg-study-details/div[2]/ctg-study-info/div/div/div[2]/div[2]/ctg-study-contacts-and-locations/div/div/div/ctg-study-contact-info/p[1]/span'),\n",
    "        ('Contact Email'            , '/html/body/app-root/main/ctg-study-details/div[2]/ctg-study-info/div/div/div[2]/div[2]/ctg-study-contacts-and-locations/div/div/div/ctg-study-contact-info/p[3]/ctg-study-contact-email/span/a'),\n",
    "        ('Principal Investigator'   , '/html/body/app-root/main/ctg-study-details/div[2]/ctg-study-info/div/div/div[2]/div[5]/ctg-collaborators-and-investigators/div[2]/div/div[2]/div/ul/li/div')\n",
    "    ]\n",
    "    \n",
    "    data = {}\n",
    "    for key, xpath in elements:\n",
    "        try:\n",
    "            data[key] = driver.find_element(By.XPATH, xpath).text\n",
    "        except:\n",
    "            data[key] = None\n",
    "    \n",
    "    return data\n"
   ]
  },
  {
   "cell_type": "code",
   "execution_count": 18,
   "metadata": {},
   "outputs": [],
   "source": [
    "# Initialize the WebDriver\n",
    "driver = webdriver.Chrome(service=Service(ChromeDriverManager().install()))\n",
    "\n",
    "# Open the URL\n",
    "\n",
    "# \"Digital Health Interventions\"\n",
    "#driver.get(\"https://clinicaltrials.gov/search?locStr=United%20Kingdom&country=United%20Kingdom&term=Digital%20Health%20Intervention&aggFilters=studyType:int\")\n",
    "\n",
    "# \"mobile applications\"\n",
    "#driver.get(\"https://clinicaltrials.gov/search?locStr=United%20Kingdom&country=United%20Kingdom&term=mobile%20application&aggFilters=studyType:int\")\n",
    "\n",
    "# \"Internet Delivered Treatment\"\n",
    "#driver.get(\"https://clinicaltrials.gov/search?locStr=United%20Kingdom&country=United%20Kingdom&aggFilters=studyType:int&intr=Internet%20Delivered%20Treatment\")\n",
    "\n",
    "# \"Website Intervention\"\n",
    "#driver.get(\"https://clinicaltrials.gov/search?locStr=United%20Kingdom&country=United%20Kingdom&aggFilters=studyType:int&intr=Website%20intervention\")\n",
    "\n",
    "# Give the page some time to load\n",
    "time.sleep(5)"
   ]
  },
  {
   "cell_type": "code",
   "execution_count": 19,
   "metadata": {},
   "outputs": [
    {
     "name": "stdout",
     "output_type": "stream",
     "text": [
      "Total Results: 34\n",
      "Results per Page: 10\n",
      "Total Pages: 4\n"
     ]
    }
   ],
   "source": [
    "# Get the total number of search results\n",
    "total_results_xpath = \"/html/body/app-root/main/ctg-search-results/div[2]/section/div[2]/div/div/div[1]/div[1]/div/p\"\n",
    "total_results_string = driver.find_element(By.XPATH, total_results_xpath).text\n",
    "\n",
    "# Use regex to find the number\n",
    "totalpages_match = re.search(r'out of (\\d+)', total_results_string)\n",
    "total_results = int(totalpages_match.group(1))\n",
    "print(f\"Total Results: {total_results}\")\n",
    "\n",
    "# Calculate the total number of pages\n",
    "perpage_match = re.search(r'Viewing \\d+-(\\d+)', total_results_string)\n",
    "results_per_page = int(perpage_match.group(1))\n",
    "print(f\"Results per Page: {results_per_page}\")\n",
    "total_pages = math.ceil(total_results / results_per_page)\n",
    "print(f\"Total Pages: {total_pages}\")"
   ]
  },
  {
   "cell_type": "code",
   "execution_count": 21,
   "metadata": {},
   "outputs": [],
   "source": [
    "# Initialize a list to hold the data\n",
    "results = []\n",
    "\n",
    "# Iterate over all the pages\n",
    "for page in range(total_pages):\n",
    "    # Iterate through the search results on the current page\n",
    "    for i in range(1, results_per_page + 1):\n",
    "        if (page * results_per_page) + i > total_results:\n",
    "            break  # Stop if we've processed all results\n",
    "        try:\n",
    "            # Construct XPath to click onto each search result \n",
    "            xpath = f\"/html/body/app-root/main/ctg-search-results/div[2]/section/div[2]/div/div/div[3]/ctg-search-hit-card[{i}]/div/div[3]/header/a\"\n",
    "            # Use WebDriverWait to wait until the element is present\n",
    "            link = WebDriverWait(driver, 10).until(EC.presence_of_element_located((By.XPATH, xpath)))\n",
    "            url = link.get_attribute('href')  # Get the href attribute\n",
    "            \n",
    "            # Open the link in a new tab\n",
    "            driver.execute_script(\"window.open(arguments[0]);\", url)\n",
    "            driver.switch_to.window(driver.window_handles[-1])  # Switch to the new tab\n",
    "            \n",
    "            # Extract data from the new tab\n",
    "            project_data = extract_data(url)\n",
    "            results.append(project_data)\n",
    "            \n",
    "            # Close the tab and switch back to the original search page\n",
    "            driver.close()\n",
    "            driver.switch_to.window(driver.window_handles[0])\n",
    "            \n",
    "        except Exception as e:\n",
    "            print(f\"Error processing result {i} on page {page + 1}: {e}\")\n",
    "            continue\n",
    "\n",
    "    # Click the next button if there are more pages\n",
    "    if page < total_pages - 1:\n",
    "        try:\n",
    "            next_button_xpath = '//nav/ul/li/button/span[contains(text(), \"Next\")]' # Find XPATH with \"Next\" in text      \n",
    "            next_button = WebDriverWait(driver, 10).until(EC.element_to_be_clickable((By.XPATH, next_button_xpath)))\n",
    "            next_button.click()\n",
    "            time.sleep(5)  # Wait for the next page to load\n",
    "        except Exception as e:\n",
    "            print(f\"Error clicking the next button on page {page + 1}: {e}\")\n",
    "            break\n"
   ]
  },
  {
   "cell_type": "code",
   "execution_count": 22,
   "metadata": {},
   "outputs": [
    {
     "name": "stdout",
     "output_type": "stream",
     "text": [
      "Data saved to C:\\Users\\je116\\OneDrive - Imperial College London\\PhD-wpca-je116\\9. Additional Projects\\Funding Awards\\09FEB2024 - Imperial BRC Digital Health Trials\\3. Survey\\Advertising\\clintrials_website_trials.csv\n"
     ]
    }
   ],
   "source": [
    "# Specify the folder location and filename for saving the CSV\n",
    "folder_path = r\"C:\\Users\\je116\\OneDrive - Imperial College London\\PhD-wpca-je116\\9. Additional Projects\\Funding Awards\\09FEB2024 - Imperial BRC Digital Health Trials\\3. Survey\\Advertising\"\n",
    "filename = \"clintrials_website_trials.csv\"\n",
    "csv_file_path = os.path.join(folder_path, filename)\n",
    "\n",
    "# Create the directory if it doesn't exist\n",
    "os.makedirs(folder_path, exist_ok=True)\n",
    "\n",
    "# Save results to CSV\n",
    "if results:\n",
    "    keys = results[0].keys()\n",
    "    with open(csv_file_path, 'w', newline='', encoding='utf-8') as output_file:\n",
    "        dict_writer = csv.DictWriter(output_file, fieldnames=keys)\n",
    "        dict_writer.writeheader()\n",
    "        dict_writer.writerows(results)\n",
    "    print(f\"Data saved to {csv_file_path}\")\n",
    "\n",
    "# Close the WebDriver\n",
    "driver.quit()"
   ]
  }
 ],
 "metadata": {
  "kernelspec": {
   "display_name": "Python 3",
   "language": "python",
   "name": "python3"
  },
  "language_info": {
   "codemirror_mode": {
    "name": "ipython",
    "version": 3
   },
   "file_extension": ".py",
   "mimetype": "text/x-python",
   "name": "python",
   "nbconvert_exporter": "python",
   "pygments_lexer": "ipython3",
   "version": "3.12.3"
  }
 },
 "nbformat": 4,
 "nbformat_minor": 2
}
