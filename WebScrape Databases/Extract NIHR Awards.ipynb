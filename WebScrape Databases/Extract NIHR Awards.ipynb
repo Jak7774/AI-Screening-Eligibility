{
 "cells": [
  {
   "cell_type": "code",
   "execution_count": 29,
   "metadata": {},
   "outputs": [],
   "source": [
    "import os\n",
    "import time\n",
    "import csv\n",
    "import math\n",
    "from selenium import webdriver\n",
    "from selenium.webdriver.common.by import By\n",
    "from selenium.webdriver.chrome.service import Service\n",
    "from selenium.webdriver.support.ui import WebDriverWait\n",
    "from selenium.webdriver.support import expected_conditions as EC\n",
    "from webdriver_manager.chrome import ChromeDriverManager"
   ]
  },
  {
   "cell_type": "code",
   "execution_count": 25,
   "metadata": {},
   "outputs": [],
   "source": [
    "# Initialize the WebDriver\n",
    "driver = webdriver.Chrome(service=Service(ChromeDriverManager().install()))\n",
    "\n",
    "# Open the URL\n",
    "driver.get(\"https://fundingawards.nihr.ac.uk/?query=Digital%20Intervention%20Randomised%20Controlled%20Trial\")\n",
    "\n",
    "# Give the page some time to load\n",
    "time.sleep(5)"
   ]
  },
  {
   "cell_type": "code",
   "execution_count": 26,
   "metadata": {},
   "outputs": [
    {
     "name": "stdout",
     "output_type": "stream",
     "text": [
      "Total Results: 85\n"
     ]
    }
   ],
   "source": [
    "# Get the total number of search results\n",
    "total_results_xpath = \"/html/body/div[1]/div/div/div/div/div[2]/div/div[2]/section/div[1]/div[1]/strong[2]\"\n",
    "total_results = int(driver.find_element(By.XPATH, total_results_xpath).text)\n",
    "print(f\"Total Results: {total_results}\")\n",
    "\n",
    "# Calculate the total number of pages\n",
    "results_per_page = 25\n",
    "total_pages = math.ceil(total_results / results_per_page)"
   ]
  },
  {
   "cell_type": "code",
   "execution_count": 27,
   "metadata": {},
   "outputs": [],
   "source": [
    "# Function to extract data from each project page\n",
    "def extract_data(url):\n",
    "    driver.get(url)\n",
    "    time.sleep(2)  # Give the page some time to load\n",
    "    data = {}\n",
    "    try:\n",
    "        data['NIHR Programme'] = driver.find_element(By.XPATH, '/html/body/div/div/div/div/div/div[2]/div/div[2]/div/div/div[2]/div/div[1]/div[3]/div[2]/div[2]').text\n",
    "    except:\n",
    "        data['NIHR Programme'] = None\n",
    "    try:\n",
    "        data['Award ID'] = driver.find_element(By.XPATH, '/html/body/div/div/div/div/div/div[2]/div/div[1]/div/div/div[3]/h4/span').text\n",
    "    except:\n",
    "        data['Award ID'] = None\n",
    "    try:\n",
    "        data['Title'] = driver.find_element(By.XPATH, '/html/body/div/div/div/div/div/div[2]/div/div[2]/div/div/div[1]/h1').text\n",
    "    except:\n",
    "        data['Title'] = None\n",
    "    try:\n",
    "        data['Abstract'] = driver.find_element(By.XPATH, '/html/body/div/div/div/div/div/div[2]/div/div[2]/div/div/div[1]/div[2]/span/span[1]/span[3]/span/p[2]').text\n",
    "    except:\n",
    "        data['Abstract'] = None\n",
    "    try:\n",
    "        data['Read More'] = driver.find_element(By.XPATH, '/html/body/div/div/div/div/div/div[2]/div/div[2]/div/div/div[1]/div[2]/span[1]/span[1]/span').text\n",
    "    except:\n",
    "        data['Read More'] = None\n",
    "    try:\n",
    "        data['Chief Investigator'] = driver.find_element(By.XPATH, '/html/body/div/div/div/div/div/div[2]/div/div[2]/div/div/div[2]/div/div[1]/div[1]/div[2]/div[2]').text\n",
    "    except:\n",
    "        data['Chief Investigator'] = None\n",
    "    try:\n",
    "        data['Start Date'] = driver.find_element(By.XPATH, '/html/body/div/div/div/div/div/div[2]/div/div[2]/div/div/div[2]/div/div[2]/div[1]/div[2]/div[2]/span').text\n",
    "    except:\n",
    "        data['Start Date'] = None\n",
    "    try:\n",
    "        data['End Date'] = driver.find_element(By.XPATH, '/html/body/div/div/div/div/div/div[2]/div/div[2]/div/div/div[2]/div/div[2]/div[2]/div[2]/div[2]/span').text\n",
    "    except:\n",
    "        data['End Date'] = None\n",
    "    return data"
   ]
  },
  {
   "cell_type": "code",
   "execution_count": 30,
   "metadata": {},
   "outputs": [],
   "source": [
    "# Initialize a list to hold the data\n",
    "results = []\n",
    "\n",
    "# Iterate over all the pages\n",
    "for page in range(total_pages):\n",
    "    # Iterate through the search results on the current page\n",
    "    for i in range(1, results_per_page + 1):\n",
    "        if (page * results_per_page) + i > total_results:\n",
    "            break  # Stop if we've processed all results\n",
    "        try:\n",
    "            # Construct XPath for each search result\n",
    "            xpath = f\"/html/body/div[1]/div/div/div/div/div[2]/div/div[2]/section/section/article[{i}]/div[1]/div/h2/a\"\n",
    "            # Use WebDriverWait to wait until the element is present\n",
    "            link = WebDriverWait(driver, 10).until(EC.presence_of_element_located((By.XPATH, xpath)))\n",
    "            url = link.get_attribute('href')  # Get the href attribute\n",
    "            \n",
    "            # Open the link in a new tab\n",
    "            driver.execute_script(\"window.open(arguments[0]);\", url)\n",
    "            driver.switch_to.window(driver.window_handles[-1])  # Switch to the new tab\n",
    "            \n",
    "            # Extract data from the new tab\n",
    "            project_data = extract_data(url)\n",
    "            results.append(project_data)\n",
    "            \n",
    "            # Close the tab and switch back to the original search page\n",
    "            driver.close()\n",
    "            driver.switch_to.window(driver.window_handles[0])\n",
    "            \n",
    "        except Exception as e:\n",
    "            print(f\"Error processing result {i} on page {page + 1}: {e}\")\n",
    "            continue\n",
    "\n",
    "    # Click the next button if there are more pages\n",
    "    if page < total_pages - 1:\n",
    "        try:\n",
    "            next_button_xpath = \"/html/body/div[1]/div/div/div/div/div[2]/div/div[2]/section/div[2]/div[1]/ul/li[7]/a\"\n",
    "            next_button = WebDriverWait(driver, 10).until(EC.element_to_be_clickable((By.XPATH, next_button_xpath)))\n",
    "            next_button.click()\n",
    "            time.sleep(5)  # Wait for the next page to load\n",
    "        except Exception as e:\n",
    "            print(f\"Error clicking the next button on page {page + 1}: {e}\")\n",
    "            break\n"
   ]
  },
  {
   "cell_type": "code",
   "execution_count": 31,
   "metadata": {},
   "outputs": [
    {
     "name": "stdout",
     "output_type": "stream",
     "text": [
      "Data saved to C:\\Users\\je116\\OneDrive - Imperial College London\\PhD-wpca-je116\\9. Additional Projects\\Funding Awards\\09FEB2024 - Imperial BRC Digital Health Trials\\3. Survey\\Advertising\\nihr_funding_awards.csv\n"
     ]
    }
   ],
   "source": [
    "# Specify the folder location and filename for saving the CSV\n",
    "folder_path = r\"C:\\Users\\je116\\OneDrive - Imperial College London\\PhD-wpca-je116\\9. Additional Projects\\Funding Awards\\09FEB2024 - Imperial BRC Digital Health Trials\\3. Survey\\Advertising\"\n",
    "filename = \"nihr_funding_awards.csv\"\n",
    "csv_file_path = os.path.join(folder_path, filename)\n",
    "\n",
    "# Create the directory if it doesn't exist\n",
    "os.makedirs(folder_path, exist_ok=True)\n",
    "\n",
    "# Save results to CSV\n",
    "if results:\n",
    "    keys = results[0].keys()\n",
    "    with open(csv_file_path, 'w', newline='') as output_file:\n",
    "        dict_writer = csv.DictWriter(output_file, fieldnames=keys)\n",
    "        dict_writer.writeheader()\n",
    "        dict_writer.writerows(results)\n",
    "    print(f\"Data saved to {csv_file_path}\")\n",
    "\n",
    "# Close the WebDriver\n",
    "driver.quit()"
   ]
  },
  {
   "cell_type": "code",
   "execution_count": null,
   "metadata": {},
   "outputs": [],
   "source": [
    "page = webdriver.Chrome(service=Service(ChromeDriverManager().install()))\n",
    "url = \"https://fundingawards.nihr.ac.uk/?query=Digital%20Intervention%20Randomised%20Controlled%20Trial\"\n"
   ]
  }
 ],
 "metadata": {
  "kernelspec": {
   "display_name": "Python 3",
   "language": "python",
   "name": "python3"
  },
  "language_info": {
   "codemirror_mode": {
    "name": "ipython",
    "version": 3
   },
   "file_extension": ".py",
   "mimetype": "text/x-python",
   "name": "python",
   "nbconvert_exporter": "python",
   "pygments_lexer": "ipython3",
   "version": "3.12.3"
  }
 },
 "nbformat": 4,
 "nbformat_minor": 2
}
